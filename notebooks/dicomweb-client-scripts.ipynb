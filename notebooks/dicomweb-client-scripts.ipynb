{
 "cells": [
  {
   "cell_type": "markdown",
   "id": "fb65958d-cdef-41cf-8aa9-653cefbee607",
   "metadata": {},
   "source": []
  },
  {
   "cell_type": "code",
   "execution_count": 2,
   "id": "2804cb6d-6c87-49e7-8f1e-8062b35fd5ce",
   "metadata": {
    "tags": []
   },
   "outputs": [],
   "source": [
    "# !pip install dicomweb-client[gcp]"
   ]
  },
  {
   "cell_type": "code",
   "execution_count": 3,
   "id": "e09edfce-5ca3-460a-87b1-22f528e06981",
   "metadata": {
    "tags": []
   },
   "outputs": [],
   "source": [
    "from dicomweb_client.api import DICOMwebClient"
   ]
  },
  {
   "cell_type": "code",
   "execution_count": 8,
   "id": "b92508ca-bb94-46ae-90f7-87bae8e4dbf1",
   "metadata": {
    "tags": []
   },
   "outputs": [],
   "source": [
    "# dicomweb_server = \"http://localhost:8042\"\n",
    "dicomweb_server = \"https://idc-external-006.uc.r.appspot.com/dcm4chee-arc/aets/DCM4CHEE/rs\"\n",
    "\n",
    "client = DICOMwebClient(url=dicomweb_server)\n"
   ]
  },
  {
   "cell_type": "markdown",
   "id": "6f86203b-bdae-4277-a2f3-b8caad441313",
   "metadata": {},
   "source": [
    "## QIDO Methods (Search)"
   ]
  },
  {
   "cell_type": "code",
   "execution_count": 9,
   "id": "894357d0-0ab9-405f-a90d-164806feda5a",
   "metadata": {
    "tags": []
   },
   "outputs": [
    {
     "data": {
      "text/plain": [
       "[{'00080005': {'vr': 'CS'},\n",
       "  '00080020': {'vr': 'DA', 'Value': ['20191217']},\n",
       "  '00080030': {'vr': 'TM', 'Value': ['000000']},\n",
       "  '00080050': {'vr': 'SH', 'Value': ['LUNG-1-LN']},\n",
       "  '00080054': {'vr': 'AE', 'Value': ['DCM4CHEE']},\n",
       "  '00080056': {'vr': 'CS', 'Value': ['ONLINE']},\n",
       "  '00080061': {'vr': 'CS', 'Value': ['PR', 'SM']},\n",
       "  '00080090': {'vr': 'PN', 'Value': [{}]},\n",
       "  '00080201': {'vr': 'SH', 'Value': ['-0400']},\n",
       "  '00081190': {'vr': 'UR',\n",
       "   'Value': ['https://idc-external-006.uc.r.appspot.com/dcm4chee-arc/aets/DCM4CHEE/rs/studies/1.3.6.1.4.1.5962.99.1.3456320082.756362073.1622659023442.3.0']},\n",
       "  '00100010': {'vr': 'PN', 'Value': [{'Alphabetic': 'LUNG-1-LN'}]},\n",
       "  '00100020': {'vr': 'LO', 'Value': ['LUNG-1-LN']},\n",
       "  '00100030': {'vr': 'DA'},\n",
       "  '00100040': {'vr': 'CS'},\n",
       "  '0020000D': {'vr': 'UI',\n",
       "   'Value': ['1.3.6.1.4.1.5962.99.1.3456320082.756362073.1622659023442.3.0']},\n",
       "  '00200010': {'vr': 'SH', 'Value': ['LUNG-1-LN']},\n",
       "  '00201206': {'vr': 'IS', 'Value': ['47']},\n",
       "  '00201208': {'vr': 'IS', 'Value': ['223']}},\n",
       " {'00080005': {'vr': 'CS'},\n",
       "  '00080020': {'vr': 'DA', 'Value': ['20211030']},\n",
       "  '00080030': {'vr': 'TM', 'Value': ['125446.695']},\n",
       "  '00080050': {'vr': 'SH', 'Value': ['TCGA-05-4244-01Z']},\n",
       "  '00080054': {'vr': 'AE', 'Value': ['DCM4CHEE']},\n",
       "  '00080056': {'vr': 'CS', 'Value': ['ONLINE']},\n",
       "  '00080061': {'vr': 'CS', 'Value': ['ANN', 'SEG', 'SM']},\n",
       "  '00080090': {'vr': 'PN', 'Value': [{}]},\n",
       "  '00080201': {'vr': 'SH', 'Value': ['+0000']},\n",
       "  '00081190': {'vr': 'UR',\n",
       "   'Value': ['https://idc-external-006.uc.r.appspot.com/dcm4chee-arc/aets/DCM4CHEE/rs/studies/2.25.18199272949575141157802058345697568861']},\n",
       "  '00100010': {'vr': 'PN', 'Value': [{'Alphabetic': 'TCGA-05-4244'}]},\n",
       "  '00100020': {'vr': 'LO', 'Value': ['TCGA-05-4244']},\n",
       "  '00100030': {'vr': 'DA'},\n",
       "  '00100040': {'vr': 'CS'},\n",
       "  '0020000D': {'vr': 'UI',\n",
       "   'Value': ['2.25.18199272949575141157802058345697568861']},\n",
       "  '00200010': {'vr': 'SH', 'Value': ['TCGA-05-4244-01Z']},\n",
       "  '00201206': {'vr': 'IS', 'Value': ['3']},\n",
       "  '00201208': {'vr': 'IS', 'Value': ['6']}},\n",
       " {'00080005': {'vr': 'CS'},\n",
       "  '00080020': {'vr': 'DA', 'Value': ['20170413']},\n",
       "  '00080030': {'vr': 'TM', 'Value': ['172505']},\n",
       "  '00080050': {'vr': 'SH', 'Value': ['C3N-01016-02']},\n",
       "  '00080054': {'vr': 'AE', 'Value': ['DCM4CHEE']},\n",
       "  '00080056': {'vr': 'CS', 'Value': ['ONLINE']},\n",
       "  '00080061': {'vr': 'CS', 'Value': ['SEG', 'OT', 'SM']},\n",
       "  '00080090': {'vr': 'PN', 'Value': [{}]},\n",
       "  '00080201': {'vr': 'SH', 'Value': ['+0000']},\n",
       "  '00081190': {'vr': 'UR',\n",
       "   'Value': ['https://idc-external-006.uc.r.appspot.com/dcm4chee-arc/aets/DCM4CHEE/rs/studies/1.3.6.1.4.1.5962.99.1.2447135355.1068687300.1625944806011.3.0']},\n",
       "  '00100010': {'vr': 'PN', 'Value': [{'Alphabetic': 'C3N-01016'}]},\n",
       "  '00100020': {'vr': 'LO', 'Value': ['C3N-01016']},\n",
       "  '00100030': {'vr': 'DA'},\n",
       "  '00100040': {'vr': 'CS', 'Value': ['M']},\n",
       "  '0020000D': {'vr': 'UI',\n",
       "   'Value': ['1.3.6.1.4.1.5962.99.1.2447135355.1068687300.1625944806011.3.0']},\n",
       "  '00200010': {'vr': 'SH', 'Value': ['C3N-01016-02']},\n",
       "  '00201206': {'vr': 'IS', 'Value': ['3']},\n",
       "  '00201208': {'vr': 'IS', 'Value': ['7']}},\n",
       " {'00080005': {'vr': 'CS'},\n",
       "  '00080020': {'vr': 'DA', 'Value': ['20200731']},\n",
       "  '00080030': {'vr': 'TM', 'Value': ['104639.000']},\n",
       "  '00080050': {'vr': 'SH', 'Value': ['RTD-810--E-01-40']},\n",
       "  '00080054': {'vr': 'AE', 'Value': ['DCM4CHEE']},\n",
       "  '00080056': {'vr': 'CS', 'Value': ['ONLINE']},\n",
       "  '00080061': {'vr': 'CS', 'Value': ['SM']},\n",
       "  '00080090': {'vr': 'PN', 'Value': [{'Alphabetic': 'Physician^Referring'}]},\n",
       "  '00080201': {'vr': 'SH'},\n",
       "  '00081190': {'vr': 'UR',\n",
       "   'Value': ['https://idc-external-006.uc.r.appspot.com/dcm4chee-arc/aets/DCM4CHEE/rs/studies/2.16.840.1.113995.3.110.3.0.10118.2000002.278819.649182']},\n",
       "  '00100010': {'vr': 'PN',\n",
       "   'Value': [{'Alphabetic': 'Diagnostics^Roche^Tissue'}]},\n",
       "  '00100020': {'vr': 'LO', 'Value': ['0010']},\n",
       "  '00100030': {'vr': 'DA', 'Value': ['19991231']},\n",
       "  '00100040': {'vr': 'CS', 'Value': ['O']},\n",
       "  '0020000D': {'vr': 'UI',\n",
       "   'Value': ['2.16.840.1.113995.3.110.3.0.10118.2000002.278819.649182']},\n",
       "  '00200010': {'vr': 'SH', 'Value': ['Steiner_40x_z1_Q']},\n",
       "  '00201206': {'vr': 'IS', 'Value': ['1']},\n",
       "  '00201208': {'vr': 'IS', 'Value': ['8']}},\n",
       " {'00080005': {'vr': 'CS', 'Value': ['ISO_IR 192']},\n",
       "  '00080020': {'vr': 'DA', 'Value': ['20190905']},\n",
       "  '00080030': {'vr': 'TM', 'Value': ['102252']},\n",
       "  '00080050': {'vr': 'SH'},\n",
       "  '00080054': {'vr': 'AE', 'Value': ['DCM4CHEE']},\n",
       "  '00080056': {'vr': 'CS', 'Value': ['ONLINE']},\n",
       "  '00080061': {'vr': 'CS', 'Value': ['SM']},\n",
       "  '00080090': {'vr': 'PN', 'Value': [{'Alphabetic': 'Muppets^Master'}]},\n",
       "  '00080201': {'vr': 'SH'},\n",
       "  '00081190': {'vr': 'UR',\n",
       "   'Value': ['https://idc-external-006.uc.r.appspot.com/dcm4chee-arc/aets/DCM4CHEE/rs/studies/2.16.756.5.41.446.20190905094928']},\n",
       "  '00100010': {'vr': 'PN', 'Value': [{'Alphabetic': 'Miss^Piggy'}]},\n",
       "  '00100020': {'vr': 'LO', 'Value': ['2-12-85-06']},\n",
       "  '00100030': {'vr': 'DA', 'Value': ['19741013']},\n",
       "  '00100040': {'vr': 'CS', 'Value': ['F']},\n",
       "  '0020000D': {'vr': 'UI', 'Value': ['2.16.756.5.41.446.20190905094928']},\n",
       "  '00200010': {'vr': 'SH', 'Value': ['595']},\n",
       "  '00201206': {'vr': 'IS', 'Value': ['1']},\n",
       "  '00201208': {'vr': 'IS', 'Value': ['4']}},\n",
       " {'00080005': {'vr': 'CS'},\n",
       "  '00080020': {'vr': 'DA', 'Value': ['20210527']},\n",
       "  '00080030': {'vr': 'TM'},\n",
       "  '00080050': {'vr': 'SH', 'Value': ['A20210527083431']},\n",
       "  '00080054': {'vr': 'AE', 'Value': ['DCM4CHEE']},\n",
       "  '00080056': {'vr': 'CS', 'Value': ['ONLINE']},\n",
       "  '00080061': {'vr': 'CS', 'Value': ['SM']},\n",
       "  '00080090': {'vr': 'PN'},\n",
       "  '00080201': {'vr': 'SH', 'Value': ['+0200']},\n",
       "  '00081190': {'vr': 'UR',\n",
       "   'Value': ['https://idc-external-006.uc.r.appspot.com/dcm4chee-arc/aets/DCM4CHEE/rs/studies/2.25.18791930072034659343691185074678777595']},\n",
       "  '00100010': {'vr': 'PN', 'Value': [{'Alphabetic': '3DHISTECH^Stomach'}]},\n",
       "  '00100020': {'vr': 'LO', 'Value': ['ID_20210527083431']},\n",
       "  '00100030': {'vr': 'DA'},\n",
       "  '00100040': {'vr': 'CS'},\n",
       "  '0020000D': {'vr': 'UI',\n",
       "   'Value': ['2.25.18791930072034659343691185074678777595']},\n",
       "  '00200010': {'vr': 'SH', 'Value': ['D1M_15S_1']},\n",
       "  '00201206': {'vr': 'IS', 'Value': ['1']},\n",
       "  '00201208': {'vr': 'IS', 'Value': ['14']}},\n",
       " {'00080005': {'vr': 'CS', 'Value': ['ISO_IR 192']},\n",
       "  '00080020': {'vr': 'DA'},\n",
       "  '00080030': {'vr': 'TM'},\n",
       "  '00080050': {'vr': 'SH', 'Value': ['?']},\n",
       "  '00080054': {'vr': 'AE', 'Value': ['DCM4CHEE']},\n",
       "  '00080056': {'vr': 'CS', 'Value': ['ONLINE']},\n",
       "  '00080061': {'vr': 'CS', 'Value': ['SM']},\n",
       "  '00080090': {'vr': 'PN'},\n",
       "  '00080201': {'vr': 'SH', 'Value': ['+0000']},\n",
       "  '00081190': {'vr': 'UR',\n",
       "   'Value': ['https://idc-external-006.uc.r.appspot.com/dcm4chee-arc/aets/DCM4CHEE/rs/studies/2.25.23897195960526781231486877255455994829']},\n",
       "  '00100010': {'vr': 'PN'},\n",
       "  '00100020': {'vr': 'LO', 'Value': ['P-00000001']},\n",
       "  '00100030': {'vr': 'DA'},\n",
       "  '00100040': {'vr': 'CS'},\n",
       "  '0020000D': {'vr': 'UI',\n",
       "   'Value': ['2.25.23897195960526781231486877255455994829']},\n",
       "  '00200010': {'vr': 'SH'},\n",
       "  '00201206': {'vr': 'IS', 'Value': ['1']},\n",
       "  '00201208': {'vr': 'IS', 'Value': ['12']}},\n",
       " {'00080005': {'vr': 'CS'},\n",
       "  '00080020': {'vr': 'DA', 'Value': ['20220123']},\n",
       "  '00080030': {'vr': 'TM', 'Value': ['120327.380']},\n",
       "  '00080050': {'vr': 'SH', 'Value': ['HTA9_1']},\n",
       "  '00080054': {'vr': 'AE', 'Value': ['DCM4CHEE']},\n",
       "  '00080056': {'vr': 'CS', 'Value': ['ONLINE']},\n",
       "  '00080061': {'vr': 'CS', 'Value': ['PR', 'SM']},\n",
       "  '00080090': {'vr': 'PN', 'Value': [{}]},\n",
       "  '00080201': {'vr': 'SH', 'Value': ['-0500']},\n",
       "  '00081190': {'vr': 'UR',\n",
       "   'Value': ['https://idc-external-006.uc.r.appspot.com/dcm4chee-arc/aets/DCM4CHEE/rs/studies/2.25.272603497800249433889091116769002955881']},\n",
       "  '00100010': {'vr': 'PN', 'Value': [{'Alphabetic': 'HTA9_1'}]},\n",
       "  '00100020': {'vr': 'LO', 'Value': ['HTA9_1']},\n",
       "  '00100030': {'vr': 'DA'},\n",
       "  '00100040': {'vr': 'CS'},\n",
       "  '0020000D': {'vr': 'UI',\n",
       "   'Value': ['2.25.272603497800249433889091116769002955881']},\n",
       "  '00200010': {'vr': 'SH', 'Value': ['HTA9_1']},\n",
       "  '00201206': {'vr': 'IS', 'Value': ['2']},\n",
       "  '00201208': {'vr': 'IS', 'Value': ['181']}}]"
      ]
     },
     "execution_count": 9,
     "metadata": {},
     "output_type": "execute_result"
    }
   ],
   "source": [
    "studies = client.search_for_studies()\n",
    "studies"
   ]
  },
  {
   "cell_type": "code",
   "execution_count": null,
   "id": "607c7632-f50e-4473-9bcc-ea5fd1cfd402",
   "metadata": {},
   "outputs": [],
   "source": []
  }
 ],
 "metadata": {
  "kernelspec": {
   "display_name": "Python 3 (ipykernel)",
   "language": "python",
   "name": "python3"
  },
  "language_info": {
   "codemirror_mode": {
    "name": "ipython",
    "version": 3
   },
   "file_extension": ".py",
   "mimetype": "text/x-python",
   "name": "python",
   "nbconvert_exporter": "python",
   "pygments_lexer": "ipython3",
   "version": "3.10.13"
  }
 },
 "nbformat": 4,
 "nbformat_minor": 5
}
